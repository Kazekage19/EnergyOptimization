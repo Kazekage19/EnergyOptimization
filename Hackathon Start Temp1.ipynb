{
 "cells": [
  {
   "cell_type": "code",
   "execution_count": null,
   "id": "5fcc7c3e",
   "metadata": {},
   "outputs": [],
   "source": [
    "import pandas as pd"
   ]
  },
  {
   "cell_type": "code",
   "execution_count": null,
   "id": "0925f5e3",
   "metadata": {},
   "outputs": [],
   "source": [
    "df=pd.read_csv(r\"C:\\Users\\aksha\\Downloads\\household_power_consumption.txt\",sep=';',parse_dates={'dt':['Date','Time']},infer_datetime_format=True,na_values=['nan','?'],index_col='dt')"
   ]
  },
  {
   "cell_type": "code",
   "execution_count": null,
   "id": "60f37ee1",
   "metadata": {},
   "outputs": [],
   "source": [
    "for i in df.columns:\n",
    "    df[i].fillna(df[i].mean())"
   ]
  },
  {
   "cell_type": "code",
   "execution_count": null,
   "id": "7b6e4a9d",
   "metadata": {},
   "outputs": [],
   "source": []
  },
  {
   "cell_type": "code",
   "execution_count": null,
   "id": "70058f1b",
   "metadata": {},
   "outputs": [],
   "source": []
  },
  {
   "cell_type": "code",
   "execution_count": null,
   "id": "9fb2e82b",
   "metadata": {},
   "outputs": [],
   "source": []
  },
  {
   "cell_type": "code",
   "execution_count": null,
   "id": "99df100c",
   "metadata": {},
   "outputs": [],
   "source": []
  },
  {
   "cell_type": "code",
   "execution_count": null,
   "id": "feadc9f4",
   "metadata": {},
   "outputs": [],
   "source": []
  },
  {
   "cell_type": "code",
   "execution_count": null,
   "id": "206f158d",
   "metadata": {},
   "outputs": [],
   "source": []
  },
  {
   "cell_type": "code",
   "execution_count": null,
   "id": "c00cafb1",
   "metadata": {},
   "outputs": [],
   "source": [
    "new_df=df.groupby(['dt'],axis=0).sum()"
   ]
  },
  {
   "cell_type": "code",
   "execution_count": null,
   "id": "034145c9",
   "metadata": {},
   "outputs": [],
   "source": []
  },
  {
   "cell_type": "code",
   "execution_count": null,
   "id": "87e6b6b9",
   "metadata": {},
   "outputs": [],
   "source": []
  },
  {
   "cell_type": "code",
   "execution_count": null,
   "id": "1552ead3",
   "metadata": {},
   "outputs": [],
   "source": []
  },
  {
   "cell_type": "code",
   "execution_count": null,
   "id": "3fc506eb",
   "metadata": {},
   "outputs": [],
   "source": []
  },
  {
   "cell_type": "code",
   "execution_count": null,
   "id": "288179e1",
   "metadata": {},
   "outputs": [],
   "source": [
    "import seaborn as sns\n",
    "import matplotlib.pyplot as plt\n",
    "import numpy as np"
   ]
  },
  {
   "cell_type": "code",
   "execution_count": null,
   "id": "ee70a5ce",
   "metadata": {},
   "outputs": [],
   "source": []
  },
  {
   "cell_type": "code",
   "execution_count": null,
   "id": "b835ebe0",
   "metadata": {},
   "outputs": [],
   "source": []
  },
  {
   "cell_type": "code",
   "execution_count": null,
   "id": "b56ed4ba",
   "metadata": {},
   "outputs": [],
   "source": []
  },
  {
   "cell_type": "code",
   "execution_count": null,
   "id": "c1b1a8b4",
   "metadata": {},
   "outputs": [],
   "source": []
  },
  {
   "cell_type": "code",
   "execution_count": null,
   "id": "01f7e491",
   "metadata": {},
   "outputs": [],
   "source": []
  },
  {
   "cell_type": "code",
   "execution_count": null,
   "id": "dc314ce5",
   "metadata": {},
   "outputs": [],
   "source": [
    "new_df=df.drop(['Global_reactive_power','Voltage'],axis=1)"
   ]
  },
  {
   "cell_type": "code",
   "execution_count": null,
   "id": "7f0d759a",
   "metadata": {},
   "outputs": [],
   "source": []
  },
  {
   "cell_type": "code",
   "execution_count": null,
   "id": "383b47de",
   "metadata": {},
   "outputs": [],
   "source": [
    "new_df['Metering']=new_df['Global_active_power']*1000/60-new_df['Sub_metering_1']-new_df['Sub_metering_2']-new_df['Sub_metering_3']\n",
    "        "
   ]
  },
  {
   "cell_type": "code",
   "execution_count": null,
   "id": "c810d7a6",
   "metadata": {},
   "outputs": [],
   "source": [
    "new_df.head()"
   ]
  },
  {
   "cell_type": "code",
   "execution_count": null,
   "id": "bfa99275",
   "metadata": {},
   "outputs": [],
   "source": [
    "new_df['Space_heating']=new_df['Metering']*0.62"
   ]
  },
  {
   "cell_type": "code",
   "execution_count": null,
   "id": "670098ee",
   "metadata": {},
   "outputs": [],
   "source": [
    "l=0.005\n",
    "a=0.317\n",
    "new_df['Appliances']=new_df['Metering']*a+new_df['Sub_metering_1']*0.7572+new_df['Sub_metering_2']*0.8637+new_df['Sub_metering_3']*0.996\n",
    "new_df['Lighting']=new_df['Metering']*l+new_df['Sub_metering_1']*0.2428+new_df['Sub_metering_2']*0.1362+new_df['Sub_metering_3']*0\n",
    "new_df['Space_heating']+=new_df['Sub_metering_3']*0.04"
   ]
  },
  {
   "cell_type": "code",
   "execution_count": null,
   "id": "5cd184be",
   "metadata": {},
   "outputs": [],
   "source": []
  },
  {
   "cell_type": "code",
   "execution_count": null,
   "id": "db3c434e",
   "metadata": {},
   "outputs": [],
   "source": []
  },
  {
   "cell_type": "code",
   "execution_count": null,
   "id": "3fc2874c",
   "metadata": {},
   "outputs": [],
   "source": []
  },
  {
   "cell_type": "code",
   "execution_count": null,
   "id": "f3f0f88b",
   "metadata": {},
   "outputs": [],
   "source": [
    "#Energy consumption data is ready\n",
    "#Train ML Model\n",
    "#Weather se relate\n",
    "#Predict Global Active Power by NN\n",
    "#Weather Scenario\n",
    "Dataset=new_df.copy()\n"
   ]
  },
  {
   "cell_type": "code",
   "execution_count": null,
   "id": "0994fd5a",
   "metadata": {},
   "outputs": [],
   "source": [
    "new_df=Dataset\n",
    "new_df=new_df.reset_index()"
   ]
  },
  {
   "cell_type": "code",
   "execution_count": null,
   "id": "8d8cd35d",
   "metadata": {},
   "outputs": [],
   "source": []
  },
  {
   "cell_type": "code",
   "execution_count": null,
   "id": "2aef363a",
   "metadata": {},
   "outputs": [],
   "source": []
  },
  {
   "cell_type": "code",
   "execution_count": null,
   "id": "c68a5cb5",
   "metadata": {},
   "outputs": [],
   "source": []
  },
  {
   "cell_type": "code",
   "execution_count": null,
   "id": "cc501d54",
   "metadata": {},
   "outputs": [],
   "source": []
  },
  {
   "cell_type": "code",
   "execution_count": null,
   "id": "401a5cf8",
   "metadata": {},
   "outputs": [],
   "source": [
    "def func(x):\n",
    "    s=''\n",
    "    s+=x.strftime('%Y')\n",
    "    s+='-'\n",
    "    s+=x.strftime('%m')\n",
    "    s+='-'\n",
    "    s+=x.strftime('%d')\n",
    "    return datetime.strptime(s, '%Y-%m-%d').date()\n",
    "new_df['dt']=new_df['dt'].apply(func)\n"
   ]
  },
  {
   "cell_type": "code",
   "execution_count": null,
   "id": "3b6af5b6",
   "metadata": {},
   "outputs": [],
   "source": [
    "data2=new_df.groupby('dt').sum()\n",
    "    "
   ]
  },
  {
   "cell_type": "code",
   "execution_count": null,
   "id": "15d6926b",
   "metadata": {},
   "outputs": [],
   "source": []
  },
  {
   "cell_type": "code",
   "execution_count": null,
   "id": "9f89dfdf",
   "metadata": {},
   "outputs": [],
   "source": [
    "import requests\n",
    "import bs4\n",
    "import lxml"
   ]
  },
  {
   "cell_type": "code",
   "execution_count": null,
   "id": "6df34368",
   "metadata": {},
   "outputs": [],
   "source": []
  },
  {
   "cell_type": "code",
   "execution_count": null,
   "id": "d6a11488",
   "metadata": {},
   "outputs": [],
   "source": []
  },
  {
   "cell_type": "code",
   "execution_count": null,
   "id": "1e841895",
   "metadata": {},
   "outputs": [],
   "source": []
  },
  {
   "cell_type": "code",
   "execution_count": null,
   "id": "f110ad66",
   "metadata": {},
   "outputs": [],
   "source": [
    "\n"
   ]
  },
  {
   "cell_type": "code",
   "execution_count": null,
   "id": "165be89b",
   "metadata": {},
   "outputs": [],
   "source": [
    "import requests\n",
    "from bs4 import BeautifulSoup"
   ]
  },
  {
   "cell_type": "code",
   "execution_count": null,
   "id": "4be41a17",
   "metadata": {},
   "outputs": [],
   "source": []
  },
  {
   "cell_type": "code",
   "execution_count": null,
   "id": "159fa1cf",
   "metadata": {},
   "outputs": [],
   "source": [
    "data3=data2.copy()"
   ]
  },
  {
   "cell_type": "code",
   "execution_count": null,
   "id": "afd60afb",
   "metadata": {},
   "outputs": [],
   "source": [
    "data3=data3.reset_index()"
   ]
  },
  {
   "cell_type": "code",
   "execution_count": null,
   "id": "4e9928af",
   "metadata": {},
   "outputs": [],
   "source": []
  },
  {
   "cell_type": "code",
   "execution_count": null,
   "id": "2457078d",
   "metadata": {},
   "outputs": [],
   "source": []
  },
  {
   "cell_type": "code",
   "execution_count": null,
   "id": "002f5abf",
   "metadata": {},
   "outputs": [],
   "source": []
  },
  {
   "cell_type": "code",
   "execution_count": null,
   "id": "a13bb335",
   "metadata": {},
   "outputs": [],
   "source": []
  },
  {
   "cell_type": "code",
   "execution_count": null,
   "id": "9be3cc74",
   "metadata": {},
   "outputs": [],
   "source": [
    "from datetime import date, timedelta\n",
    "\n",
    "start_date = date(2012, 12,16)\n",
    "end_date = date(2016, 11, 26)\n",
    "delta = timedelta(days=29)\n",
    "\n",
    "dates = []\n",
    "current_date = start_date\n",
    "while current_date <= end_date:\n",
    "    dates.append([current_date.year, current_date.month, current_date.day])\n",
    "    current_date += delta"
   ]
  },
  {
   "cell_type": "code",
   "execution_count": null,
   "id": "19a00b07",
   "metadata": {},
   "outputs": [],
   "source": [
    "a=[]\n",
    "for c in dates:\n",
    "    a.append('-'.join( str(x) for x in c))\n",
    "    "
   ]
  },
  {
   "cell_type": "code",
   "execution_count": null,
   "id": "42bda2db",
   "metadata": {},
   "outputs": [],
   "source": [
    "L=[]\n",
    "i=0\n",
    "while(i<len(a)-1):\n",
    "    L.append([a[i],a[i+1]])\n",
    "    i+=1"
   ]
  },
  {
   "cell_type": "code",
   "execution_count": null,
   "id": "bdeb1939",
   "metadata": {},
   "outputs": [],
   "source": [
    "len(L)"
   ]
  },
  {
   "cell_type": "code",
   "execution_count": null,
   "id": "761bb000",
   "metadata": {},
   "outputs": [],
   "source": [
    "import requests\n",
    "\n",
    "url = \"https://visual-crossing-weather.p.rapidapi.com/history\"\n",
    "\n",
    "querystring = {\"startDateTime\":\"2016-12-16T00:00:00\",\"aggregateHours\":\"24\",\"location\":\"Sceaux,Paris,France\",\"endDateTime\":\"2017-01-15T00:00:00\",\"unitGroup\":\"us\",\"dayStartTime\":\"8:00:00\",\"contentType\":\"csv\",\"dayEndTime\":\"17:00:00\",\"shortColumnNames\":\"0\"}\n",
    "\n",
    "headers = {\n",
    "\t\"X-RapidAPI-Key\": \"aa9d2f3885msh257d7f71732b620p19bcf8jsn0483108bfd86\",\n",
    "\t\"X-RapidAPI-Host\": \"visual-crossing-weather.p.rapidapi.com\"\n",
    "}\n",
    "\n",
    "response = requests.request(\"GET\", url, headers=headers, params=querystring)\n"
   ]
  },
  {
   "cell_type": "code",
   "execution_count": null,
   "id": "a82cb799",
   "metadata": {},
   "outputs": [],
   "source": []
  },
  {
   "cell_type": "code",
   "execution_count": null,
   "id": "1f9bfbe0",
   "metadata": {},
   "outputs": [],
   "source": []
  },
  {
   "cell_type": "code",
   "execution_count": null,
   "id": "1aa9016b",
   "metadata": {},
   "outputs": [],
   "source": [
    "big_df=pd.DataFrame()\n",
    "for start,end in L:\n",
    "    start=start+'T00:00:00'\n",
    "    end=end+'T00:00:00'\n",
    "    querystring = {\"startDateTime\":start,\"aggregateHours\":\"24\",\"location\":\"Sceaux,Paris,France\",\"endDateTime\":end,\"unitGroup\":\"us\",\"dayStartTime\":\"8:00:00\",\"contentType\":\"csv\",\"dayEndTime\":\"17:00:00\",\"shortColumnNames\":\"0\"}\n",
    "\n",
    "    headers = {\n",
    "        \"X-RapidAPI-Key\": \"aa9d2f3885msh257d7f71732b620p19bcf8jsn0483108bfd86\",\n",
    "        \"X-RapidAPI-Host\": \"visual-crossing-weather.p.rapidapi.com\"\n",
    "            }\n",
    "\n",
    "    response = requests.request(\"GET\", url, headers=headers, params=querystring)\n",
    "    if response.status_code==200:\n",
    "        with open(\"textfile.txt\",\"wb\") as f:\n",
    "            f.write(response.content)\n",
    "    new_f=pd.read_csv(\"textfile.txt\", delimiter=\",\")\n",
    "    big_df=pd.concat([big_df,new_f],axis=0,ignore_index=True)\n",
    "    "
   ]
  },
  {
   "cell_type": "code",
   "execution_count": null,
   "id": "d1c6accb",
   "metadata": {},
   "outputs": [],
   "source": []
  },
  {
   "cell_type": "code",
   "execution_count": null,
   "id": "8bee6e7e",
   "metadata": {},
   "outputs": [],
   "source": []
  },
  {
   "cell_type": "code",
   "execution_count": null,
   "id": "2f9cea49",
   "metadata": {},
   "outputs": [],
   "source": [
    "big_df_copy=big_df.copy()\n"
   ]
  },
  {
   "cell_type": "code",
   "execution_count": null,
   "id": "4d74eb5b",
   "metadata": {},
   "outputs": [],
   "source": [
    "big_df.drop(['Address','Heat Index','Wind Speed','Wind Gust','Wind Direction','Wind Chill','Precipitation','Precipitation Cover','Snow Depth','Visibility','Cloud Cover','Sea Level Pressure','Weather Type','Latitude','Longitude','Resolved Address','Name','Info'],axis=1,inplace=True)"
   ]
  },
  {
   "cell_type": "code",
   "execution_count": null,
   "id": "5b74f1fe",
   "metadata": {},
   "outputs": [],
   "source": []
  },
  {
   "cell_type": "code",
   "execution_count": null,
   "id": "966e5a9d",
   "metadata": {},
   "outputs": [],
   "source": [
    "unique_dates=big_df['Date time'].unique()"
   ]
  },
  {
   "cell_type": "code",
   "execution_count": null,
   "id": "be4721c5",
   "metadata": {},
   "outputs": [],
   "source": [
    "temp=big_df"
   ]
  },
  {
   "cell_type": "code",
   "execution_count": null,
   "id": "7a5124ad",
   "metadata": {},
   "outputs": [],
   "source": [
    "temp=temp.reset_index()"
   ]
  },
  {
   "cell_type": "code",
   "execution_count": null,
   "id": "3a78ec28",
   "metadata": {},
   "outputs": [],
   "source": [
    "#temp.head()"
   ]
  },
  {
   "cell_type": "code",
   "execution_count": null,
   "id": "8e980e3c",
   "metadata": {},
   "outputs": [],
   "source": [
    "def func2(x):\n",
    "    return datetime.strptime(x, \"%m/%d/%Y\")\n",
    "temp['Date time']=temp['Date time'].apply(func2)"
   ]
  },
  {
   "cell_type": "code",
   "execution_count": null,
   "id": "f6734403",
   "metadata": {},
   "outputs": [],
   "source": [
    "temp.set_index('Date time',inplace=True)"
   ]
  },
  {
   "cell_type": "code",
   "execution_count": null,
   "id": "acd17cae",
   "metadata": {},
   "outputs": [],
   "source": []
  },
  {
   "cell_type": "code",
   "execution_count": null,
   "id": "23c2fb9b",
   "metadata": {},
   "outputs": [],
   "source": [
    "temp = temp[~temp.index.duplicated(keep='first')]"
   ]
  },
  {
   "cell_type": "code",
   "execution_count": null,
   "id": "57cc789f",
   "metadata": {},
   "outputs": [],
   "source": []
  },
  {
   "cell_type": "code",
   "execution_count": null,
   "id": "be83856c",
   "metadata": {},
   "outputs": [],
   "source": [
    "weather_data=temp.copy()\n",
    "energy_data=data2.copy()\n"
   ]
  },
  {
   "cell_type": "code",
   "execution_count": null,
   "id": "e3e7ae47",
   "metadata": {},
   "outputs": [],
   "source": [
    "data2.reset_index(inplace=True)"
   ]
  },
  {
   "cell_type": "code",
   "execution_count": null,
   "id": "7a776861",
   "metadata": {},
   "outputs": [],
   "source": [
    "\n",
    "def func3(x):\n",
    "    return datetime.combine(x, datetime.min.time())\n",
    "data2['dt']=data2['dt'].apply(func3)\n"
   ]
  },
  {
   "cell_type": "code",
   "execution_count": null,
   "id": "0a76e536",
   "metadata": {},
   "outputs": [],
   "source": [
    "temp=temp.reset_index()\n"
   ]
  },
  {
   "cell_type": "code",
   "execution_count": null,
   "id": "f2b42ef5",
   "metadata": {},
   "outputs": [],
   "source": [
    "data2['new']=temp['Date time']\n",
    "data2.set_index('new',inplace=True)"
   ]
  },
  {
   "cell_type": "code",
   "execution_count": null,
   "id": "c7bd8991",
   "metadata": {},
   "outputs": [],
   "source": [
    "temp=weather_data\n",
    "data2=energy_data"
   ]
  },
  {
   "cell_type": "code",
   "execution_count": null,
   "id": "0e738ef0",
   "metadata": {},
   "outputs": [],
   "source": []
  },
  {
   "cell_type": "code",
   "execution_count": null,
   "id": "847f6720",
   "metadata": {},
   "outputs": [],
   "source": []
  },
  {
   "cell_type": "code",
   "execution_count": null,
   "id": "1b35b471",
   "metadata": {},
   "outputs": [],
   "source": []
  },
  {
   "cell_type": "code",
   "execution_count": null,
   "id": "0f1bc33a",
   "metadata": {},
   "outputs": [],
   "source": []
  },
  {
   "cell_type": "code",
   "execution_count": null,
   "id": "40463bae",
   "metadata": {},
   "outputs": [],
   "source": []
  },
  {
   "cell_type": "code",
   "execution_count": null,
   "id": "cef2444a",
   "metadata": {},
   "outputs": [],
   "source": [
    "data2=data2.reset_index()"
   ]
  },
  {
   "cell_type": "code",
   "execution_count": null,
   "id": "7aea6741",
   "metadata": {},
   "outputs": [],
   "source": [
    "def func3(x):\n",
    "    return datetime.combine(x, datetime.min.time())\n",
    "data2['dt']=data2['dt'].apply(func3)"
   ]
  },
  {
   "cell_type": "code",
   "execution_count": null,
   "id": "0f81c0b0",
   "metadata": {},
   "outputs": [],
   "source": [
    "data2.set_index('dt',inplace=True)"
   ]
  },
  {
   "cell_type": "code",
   "execution_count": null,
   "id": "07658cc2",
   "metadata": {},
   "outputs": [],
   "source": []
  },
  {
   "cell_type": "code",
   "execution_count": null,
   "id": "4da12fac",
   "metadata": {},
   "outputs": [],
   "source": [
    "list_ofDates=temp.index.unique()\n"
   ]
  },
  {
   "cell_type": "code",
   "execution_count": null,
   "id": "9c767182",
   "metadata": {},
   "outputs": [],
   "source": [
    "temp.reset_index(inplace=True)\n",
    "data2.reset_index(inplace=True)\n",
    "temp.drop(['Date time'],axis=1,inplace=True)\n",
    "data2.drop(['dt'],axis=1,inplace=True)\n",
    "res=temp.join(data2)"
   ]
  },
  {
   "cell_type": "code",
   "execution_count": null,
   "id": "4f516877",
   "metadata": {},
   "outputs": [],
   "source": [
    "res['Dates']=list_ofDates"
   ]
  },
  {
   "cell_type": "code",
   "execution_count": null,
   "id": "8eb22bff",
   "metadata": {},
   "outputs": [],
   "source": [
    "res.set_index('Dates',inplace=True)"
   ]
  },
  {
   "cell_type": "code",
   "execution_count": null,
   "id": "b171a997",
   "metadata": {},
   "outputs": [],
   "source": [
    "res.reset_index(inplace=True)\n"
   ]
  },
  {
   "cell_type": "code",
   "execution_count": null,
   "id": "de674fff",
   "metadata": {},
   "outputs": [],
   "source": []
  },
  {
   "cell_type": "code",
   "execution_count": null,
   "id": "c9e02b13",
   "metadata": {},
   "outputs": [],
   "source": [
    "res.drop(['Conditions','Metering','Dates'],inplace=True,axis=1)\n",
    "X=res[['Minimum Temperature', 'Maximum Temperature', 'Temperature',\n",
    "       'Dew Point', 'Relative Humidity', 'Global_active_power',\n",
    "       'Global_intensity', 'Sub_metering_1', 'Sub_metering_2',\n",
    "       'Sub_metering_3']]\n",
    "Y=res[['Space_heating', 'Appliances',\n",
    "       'Lighting']]"
   ]
  },
  {
   "cell_type": "code",
   "execution_count": null,
   "id": "e51c4387",
   "metadata": {},
   "outputs": [],
   "source": [
    "X.drop(['Conditions'],axis=1,inplace=True)"
   ]
  },
  {
   "cell_type": "code",
   "execution_count": null,
   "id": "631d033d",
   "metadata": {},
   "outputs": [],
   "source": [
    "#train starts here\n",
    "from sklearn.model_selection import train_test_split\n",
    "\n",
    "from sklearn.preprocessing import StandardScaler\n",
    "from sklearn.preprocessing import MinMaxScaler\n",
    "from sklearn.model_selection import cross_val_score\n",
    "from sklearn.feature_selection import SelectFromModel\n",
    "from sklearn import metrics\n",
    "from sklearn.metrics import mean_squared_error,r2_score\n",
    "import tensorflow as tf\n",
    "\n",
    "\n",
    "from tensorflow.keras.layers import Dense\n",
    "from tensorflow.keras.models import Sequential\n",
    "from tensorflow.keras.utils import to_categorical\n",
    "from tensorflow.keras.optimizers import SGD \n",
    "from tensorflow.keras.callbacks import EarlyStopping\n",
    "\n",
    "import itertools\n",
    "from tensorflow.keras.layers import LSTM\n",
    "\n",
    "from tensorflow.keras.layers import Dropout\n"
   ]
  },
  {
   "cell_type": "code",
   "execution_count": null,
   "id": "8a568498",
   "metadata": {},
   "outputs": [],
   "source": []
  },
  {
   "cell_type": "code",
   "execution_count": null,
   "id": "198fc573",
   "metadata": {},
   "outputs": [],
   "source": []
  },
  {
   "cell_type": "code",
   "execution_count": null,
   "id": "e86a20e9",
   "metadata": {},
   "outputs": [],
   "source": [
    "import numpy as np\n",
    "import pandas as pd\n",
    "from sklearn.preprocessing import MinMaxScaler\n",
    "from keras.models import Sequential\n",
    "from keras.layers import Dense, LSTM\n",
    "from sklearn.model_selection import train_test_split\n",
    "from sklearn.metrics import mean_squared_error\n",
    "\n",
    "\n",
    "# normalize the data\n",
    "scaler = MinMaxScaler()\n",
    "X = scaler.fit_transform(X)\n",
    "y = scaler.fit_transform(Y)\n",
    "\n",
    "# split the data into train and test sets\n",
    "X_train, X_test, y_train, y_test = train_test_split(X, y, test_size=0.2, shuffle=False)\n",
    "\n",
    "# reshape the data into 3D format\n",
    "X_train = np.reshape(X_train, (X_train.shape[0], X_train.shape[1], 1))\n",
    "X_test = np.reshape(X_test, (X_test.shape[0], X_test.shape[1], 1))\n",
    "\n",
    "# define the model\n",
    "model = Sequential()\n",
    "model.add(LSTM(50, input_shape=(X_train.shape[1], X_train.shape[2]), return_sequences=True))\n",
    "model.add(LSTM(50))\n",
    "model.add(Dense(3))\n",
    "model.compile(loss='mean_squared_error', optimizer='adam',metrics=['accuracy'])\n",
    "\n",
    "# fit the model to the training data\n",
    "model.fit(X_train, y_train, epochs=100, batch_size=32, verbose=1)\n",
    "\n",
    "# evaluate the model on the test data\n",
    "y_pred = model.predict(X_test)\n",
    "y_pred = scaler.inverse_transform(y_pred)\n",
    "y_test = scaler.inverse_transform(y_test)\n",
    "mse = mean_squared_error(y_test, y_pred)\n",
    "print(\"MSE:\", mse)\n",
    "\n",
    "# save the model\n",
    "model.save(\"time_series_model.h5\")\n"
   ]
  },
  {
   "cell_type": "code",
   "execution_count": 531,
   "id": "40e4bc2d",
   "metadata": {},
   "outputs": [
    {
     "name": "stdout",
     "output_type": "stream",
     "text": [
      "Keras weights file (<HDF5 file \"variables.h5\" (mode r+)>) saving:\n",
      "...layers\\dense\n",
      "......vars\n",
      ".........0\n",
      ".........1\n",
      "...layers\\lstm\n",
      "......vars\n",
      "...layers\\lstm\\cell\n",
      "......vars\n",
      ".........0\n",
      ".........1\n",
      ".........2\n",
      "...layers\\lstm_1\n",
      "......vars\n",
      "...layers\\lstm_1\\cell\n",
      "......vars\n",
      ".........0\n",
      ".........1\n",
      ".........2\n",
      "...metrics\\mean\n",
      "......vars\n",
      ".........0\n",
      ".........1\n",
      "...metrics\\mean_metric_wrapper\n",
      "......vars\n",
      ".........0\n",
      ".........1\n",
      "...optimizer\n",
      "......vars\n",
      ".........0\n",
      ".........1\n",
      ".........10\n",
      ".........11\n",
      ".........12\n",
      ".........13\n",
      ".........14\n",
      ".........15\n",
      ".........16\n",
      ".........2\n",
      ".........3\n",
      ".........4\n",
      ".........5\n",
      ".........6\n",
      ".........7\n",
      ".........8\n",
      ".........9\n",
      "...vars\n",
      "Keras model archive saving:\n",
      "File Name                                             Modified             Size\n",
      "config.json                                    2023-02-12 06:27:57         2649\n",
      "metadata.json                                  2023-02-12 06:27:57           64\n",
      "variables.h5                                   2023-02-12 06:27:57       398512\n"
     ]
    }
   ],
   "source": [
    "import pickle\n",
    "pickle.dump(model,open('LSTMmodel.pkl','wb'))\n",
    "\n"
   ]
  },
  {
   "cell_type": "code",
   "execution_count": 533,
   "id": "df8328be",
   "metadata": {},
   "outputs": [
    {
     "name": "stdout",
     "output_type": "stream",
     "text": [
      "Keras model archive loading:\n",
      "File Name                                             Modified             Size\n",
      "config.json                                    2023-02-12 06:27:56         2649\n",
      "metadata.json                                  2023-02-12 06:27:56           64\n",
      "variables.h5                                   2023-02-12 06:27:56       398512\n",
      "Keras weights file (<HDF5 file \"variables.h5\" (mode r)>) loading:\n",
      "...layers\\dense\n",
      "......vars\n",
      ".........0\n",
      ".........1\n",
      "...layers\\lstm\n",
      "......vars\n",
      "...layers\\lstm\\cell\n",
      "......vars\n",
      ".........0\n",
      ".........1\n",
      ".........2\n",
      "...layers\\lstm_1\n",
      "......vars\n",
      "...layers\\lstm_1\\cell\n",
      "......vars\n",
      ".........0\n",
      ".........1\n",
      ".........2\n",
      "...metrics\\mean\n",
      "......vars\n",
      ".........0\n",
      ".........1\n",
      "...metrics\\mean_metric_wrapper\n",
      "......vars\n",
      ".........0\n",
      ".........1\n",
      "...optimizer\n",
      "......vars\n",
      ".........0\n",
      ".........1\n",
      ".........10\n",
      ".........11\n",
      ".........12\n",
      ".........13\n",
      ".........14\n",
      ".........15\n",
      ".........16\n",
      ".........2\n",
      ".........3\n",
      ".........4\n",
      ".........5\n",
      ".........6\n",
      ".........7\n",
      ".........8\n",
      ".........9\n",
      "...vars\n",
      "9/9 [==============================] - 1s 4ms/step\n"
     ]
    },
    {
     "data": {
      "text/plain": [
       "array([[ 2.95116574e-01,  5.88675678e-01,  6.69175982e-02],\n",
       "       [ 3.28835815e-01,  8.20655167e-01,  4.24368799e-01],\n",
       "       [ 2.92076737e-01,  5.93584478e-01,  1.82576925e-01],\n",
       "       [ 2.47268707e-01,  6.41794324e-01,  1.51729524e-01],\n",
       "       [ 3.19790632e-01,  8.61303389e-01,  5.60529232e-01],\n",
       "       [ 2.41483495e-01,  5.12978852e-01,  1.87024504e-01],\n",
       "       [ 2.06344962e-01,  5.11688411e-01,  1.03861950e-01],\n",
       "       [ 2.48863533e-01,  6.87582374e-01,  2.34474614e-02],\n",
       "       [ 2.91266739e-01,  9.18206334e-01,  5.14813304e-01],\n",
       "       [ 2.42170736e-01,  7.63279140e-01,  1.11821726e-01],\n",
       "       [ 2.72873968e-01,  6.32819235e-01,  9.68275815e-02],\n",
       "       [ 3.51068705e-01,  7.82339454e-01,  4.20255989e-01],\n",
       "       [ 2.33486608e-01,  4.06861812e-01,  3.70652646e-01],\n",
       "       [ 3.69169772e-01,  7.33699620e-01,  1.26483351e-01],\n",
       "       [ 3.17299306e-01,  7.10648000e-01,  1.19305253e-01],\n",
       "       [ 2.68561870e-01,  5.47514617e-01,  2.20519438e-01],\n",
       "       [ 2.02831790e-01,  3.68956119e-01,  2.80131325e-02],\n",
       "       [ 2.43431151e-01,  5.53007782e-01,  1.18837141e-01],\n",
       "       [ 2.29940191e-01,  7.54384160e-01,  3.56505990e-01],\n",
       "       [ 2.29541391e-01,  4.88653928e-01,  1.07097045e-01],\n",
       "       [ 2.67232031e-01,  6.33152246e-01,  2.68135875e-01],\n",
       "       [ 2.61009246e-01,  5.10979950e-01,  1.65079474e-01],\n",
       "       [ 2.52849966e-01,  5.88751614e-01,  4.55913395e-01],\n",
       "       [ 2.24815160e-01,  5.27712822e-01,  9.41083655e-02],\n",
       "       [ 2.60676920e-01,  5.62766433e-01,  1.84264064e-01],\n",
       "       [ 2.41205305e-01,  5.81404865e-01,  2.96567589e-01],\n",
       "       [ 2.53273070e-01,  8.71408701e-01,  7.53285050e-01],\n",
       "       [ 1.83025837e-01,  4.35100108e-01,  1.96998119e-01],\n",
       "       [ 1.98638663e-01,  4.02112573e-01,  1.39861211e-01],\n",
       "       [ 2.31617928e-01,  5.76770782e-01,  2.42230237e-01],\n",
       "       [ 2.58218229e-01,  5.33021867e-01,  3.86979207e-02],\n",
       "       [ 2.76830286e-01,  6.10669196e-01,  2.01654121e-01],\n",
       "       [ 2.11905956e-01,  5.65899849e-01,  2.85146475e-01],\n",
       "       [ 1.19617373e-01,  1.48984224e-01,  3.45840156e-02],\n",
       "       [ 2.01915756e-01,  3.34258497e-01,  1.60279855e-01],\n",
       "       [ 1.34978160e-01,  1.71501756e-01,  2.71754488e-02],\n",
       "       [ 1.30800352e-01,  2.59270549e-01,  2.54604816e-02],\n",
       "       [ 1.24347955e-01,  1.53816015e-01,  2.76880637e-02],\n",
       "       [ 1.88925356e-01,  2.79899478e-01,  1.05370052e-01],\n",
       "       [ 1.36400431e-01,  1.81809694e-01,  3.00177038e-02],\n",
       "       [ 2.23864064e-01,  3.22175801e-01,  2.09970981e-01],\n",
       "       [ 2.55016953e-01,  8.02997112e-01,  6.21516824e-01],\n",
       "       [ 2.80438691e-01,  4.54179019e-01,  9.49978828e-02],\n",
       "       [ 2.32834116e-01,  5.37918270e-01,  1.09150350e-01],\n",
       "       [ 2.50599921e-01,  5.85056841e-01,  1.69383228e-01],\n",
       "       [ 1.98134154e-01,  5.07517755e-01,  1.42243072e-01],\n",
       "       [ 2.32092589e-01,  7.71881402e-01,  4.38838542e-01],\n",
       "       [ 2.51086354e-01,  4.00798053e-01,  2.97419041e-01],\n",
       "       [ 2.21638083e-01,  5.30572653e-01,  9.14631709e-02],\n",
       "       [ 2.44399518e-01,  3.95167649e-01,  3.53474990e-02],\n",
       "       [ 2.28987291e-01,  6.12741411e-01,  3.31904083e-01],\n",
       "       [ 2.25369900e-01,  4.33554798e-01,  1.18909493e-01],\n",
       "       [ 2.39443675e-01,  4.62696612e-01,  3.96060124e-02],\n",
       "       [ 2.84642447e-02,  3.38131711e-02, -6.58494188e-03],\n",
       "       [ 1.19400039e-01,  2.53393710e-01,  2.37109348e-01],\n",
       "       [ 2.02474296e-01,  4.94948059e-01,  1.08375587e-01],\n",
       "       [ 2.27033272e-01,  5.42475760e-01,  2.65700996e-01],\n",
       "       [ 2.24356040e-01,  6.04283094e-01,  3.25624168e-01],\n",
       "       [ 2.28795856e-01,  4.88374740e-01,  4.00090739e-02],\n",
       "       [ 2.22822487e-01,  4.75218087e-01,  1.15178153e-01],\n",
       "       [ 2.38348037e-01,  5.39107740e-01,  2.13578701e-01],\n",
       "       [ 2.32121542e-01,  5.00665963e-01,  4.05491799e-01],\n",
       "       [ 1.91166952e-01,  5.10369420e-01,  3.71136740e-02],\n",
       "       [ 2.70386070e-01,  5.43043911e-01,  1.62596375e-01],\n",
       "       [ 2.15075165e-01,  5.84852397e-01,  3.44198585e-01],\n",
       "       [ 2.03011319e-01,  5.23417175e-01,  1.52755499e-01],\n",
       "       [ 2.27265030e-01,  4.67299253e-01,  3.61040756e-02],\n",
       "       [ 1.73525229e-01,  5.97897112e-01,  1.62928671e-01],\n",
       "       [ 2.35550866e-01,  4.88151819e-01,  1.20330982e-01],\n",
       "       [ 1.58406019e-01,  2.90547609e-01,  1.91183969e-01],\n",
       "       [ 2.67455846e-01,  4.98519272e-01,  1.23817384e-01],\n",
       "       [ 1.81660727e-01,  4.88238364e-01,  2.24127457e-01],\n",
       "       [ 2.22396836e-01,  4.76724863e-01,  5.06643429e-02],\n",
       "       [ 1.38936639e-01,  3.80570978e-01,  1.09767541e-01],\n",
       "       [ 1.48552850e-01,  3.51982266e-01,  1.24155648e-01],\n",
       "       [ 1.95769057e-01,  4.48224157e-01,  4.22815591e-01],\n",
       "       [ 1.80767432e-01,  4.29161906e-01,  8.28237236e-02],\n",
       "       [ 1.76259190e-01,  4.64000076e-01,  1.14613913e-01],\n",
       "       [ 1.91216722e-01,  4.93445009e-01,  3.25615972e-01],\n",
       "       [ 2.13309765e-01,  5.79011202e-01,  2.15188175e-01],\n",
       "       [ 1.74701497e-01,  4.85330969e-01,  2.30497211e-01],\n",
       "       [ 1.67801648e-01,  4.93995965e-01,  1.73177481e-01],\n",
       "       [ 1.78232819e-01,  4.51855302e-01,  1.12068743e-01],\n",
       "       [ 1.66239783e-01,  5.54303527e-01,  2.64141947e-01],\n",
       "       [ 2.12197304e-01,  5.81308901e-01,  1.35852948e-01],\n",
       "       [ 2.22961947e-01,  4.56205934e-01,  3.12350541e-02],\n",
       "       [ 1.76345557e-01,  4.46138799e-01,  1.07905038e-01],\n",
       "       [ 1.40258953e-01,  3.65365773e-01,  2.99434066e-02],\n",
       "       [ 2.07885295e-01,  4.40466613e-01,  3.84313047e-01],\n",
       "       [ 2.51551390e-01,  3.82353544e-01,  1.15510419e-01],\n",
       "       [ 1.50671288e-01,  3.03842127e-01,  9.99942347e-02],\n",
       "       [ 1.80693924e-01,  3.27216178e-01,  4.21792492e-02],\n",
       "       [ 1.19933531e-01,  2.31081396e-01,  3.90215814e-02],\n",
       "       [ 1.55877426e-01,  3.03655922e-01,  3.81741598e-02],\n",
       "       [ 1.41996846e-01,  3.20927829e-01,  2.26299345e-01],\n",
       "       [ 1.47694260e-01,  4.00646597e-01,  3.43695760e-01],\n",
       "       [ 1.96072713e-01,  7.02870607e-01,  4.74155486e-01],\n",
       "       [ 1.80627465e-01,  4.27637160e-01,  9.76430029e-02],\n",
       "       [ 2.13284835e-01,  4.40526098e-01,  5.09158075e-02],\n",
       "       [ 2.11081550e-01,  5.32868326e-01,  3.18997353e-01],\n",
       "       [ 1.96524680e-01,  3.68138820e-01,  1.92383453e-02],\n",
       "       [ 2.15873167e-01,  4.84100103e-01,  1.00214697e-01],\n",
       "       [ 1.59300148e-01,  4.67705131e-01,  3.54683548e-01],\n",
       "       [ 1.72647983e-01,  4.61326569e-01,  3.18964928e-01],\n",
       "       [ 1.95855573e-01,  4.38347787e-01,  2.90968940e-02],\n",
       "       [ 2.27813333e-01,  4.41086829e-01,  1.09322675e-01],\n",
       "       [ 2.08982974e-01,  6.50323749e-01,  2.65369475e-01],\n",
       "       [ 1.96687073e-01,  4.47219968e-01,  2.18762457e-01],\n",
       "       [ 1.89332008e-01,  5.55087745e-01,  9.17691290e-02],\n",
       "       [ 2.57222027e-01,  5.61973393e-01,  2.67293334e-01],\n",
       "       [ 2.64276475e-01,  6.00663960e-01,  4.13226783e-01],\n",
       "       [ 1.84903756e-01,  5.18588006e-01,  9.44836885e-02],\n",
       "       [ 1.95924297e-01,  4.06755000e-01,  2.47990489e-02],\n",
       "       [ 1.86028823e-01,  4.07168895e-01,  1.87430471e-01],\n",
       "       [ 1.49700880e-01,  3.42415571e-01,  2.32082009e-02],\n",
       "       [ 1.64638817e-01,  3.77447873e-01,  1.05679713e-01],\n",
       "       [ 2.24398032e-01,  6.65283620e-01,  2.77828336e-01],\n",
       "       [ 2.32222602e-01,  3.94260347e-01,  9.52607542e-02],\n",
       "       [ 1.72603160e-01,  3.81044477e-01,  2.38928422e-01],\n",
       "       [ 1.50482416e-01,  3.64813149e-01,  6.12322688e-02],\n",
       "       [ 1.51701763e-01,  4.22186375e-01,  2.55080730e-01],\n",
       "       [ 1.66728497e-01,  3.89692098e-01,  9.76037085e-02],\n",
       "       [ 1.73780397e-01,  4.15417403e-01,  1.00843318e-01],\n",
       "       [ 2.24848449e-01,  6.34901345e-01,  3.22832018e-01],\n",
       "       [ 2.09407866e-01,  4.74988252e-01,  3.03333849e-01],\n",
       "       [ 1.40456825e-01,  4.23932403e-01,  2.13270202e-01],\n",
       "       [ 1.43755972e-01,  4.03014392e-01,  9.13642719e-02],\n",
       "       [ 1.26011610e-01,  2.94891536e-01,  3.30268517e-02],\n",
       "       [ 1.33006394e-01,  4.52508539e-01,  2.32081950e-01],\n",
       "       [ 1.59560308e-01,  4.44896728e-01,  1.45476937e-01],\n",
       "       [ 1.59041405e-01,  6.42274976e-01,  8.20599198e-01],\n",
       "       [ 1.64117575e-01,  5.40387392e-01,  5.70064127e-01],\n",
       "       [ 1.34029910e-01,  2.86007851e-01,  1.54017746e-01],\n",
       "       [ 1.51117668e-01,  4.20224577e-01,  1.51404336e-01],\n",
       "       [ 1.71027780e-01,  4.52076256e-01,  3.73684615e-01],\n",
       "       [ 1.50044873e-01,  3.65340292e-01,  3.02997902e-02],\n",
       "       [ 1.52267233e-01,  4.58578289e-01,  2.70643771e-01],\n",
       "       [ 1.80762917e-01,  6.46492779e-01,  3.50774556e-01],\n",
       "       [ 1.84764400e-01,  4.86129671e-01,  4.65368003e-01],\n",
       "       [ 1.44314006e-01,  3.67476821e-01,  9.57355276e-02],\n",
       "       [ 1.68920606e-01,  3.57198000e-01,  2.93333828e-02],\n",
       "       [ 2.02204227e-01,  5.21198690e-01,  3.44069093e-01],\n",
       "       [ 1.39186934e-01,  2.99695194e-01,  2.84219086e-02],\n",
       "       [ 1.51805222e-01,  4.14333075e-01,  9.71156210e-02],\n",
       "       [ 1.68719620e-01,  4.21694785e-01,  2.48309150e-01],\n",
       "       [ 1.73877269e-01,  5.23025632e-01,  2.51503944e-01],\n",
       "       [ 1.56248719e-01,  5.24196267e-01,  4.19078141e-01],\n",
       "       [ 1.46236375e-01,  4.79460776e-01,  3.25208932e-01],\n",
       "       [ 1.07642859e-01,  4.66375142e-01,  4.65110689e-01],\n",
       "       [ 1.41129941e-01,  3.18678468e-01,  1.08998142e-01],\n",
       "       [ 1.27887949e-01,  3.46718669e-01,  3.42590064e-02],\n",
       "       [ 1.08113110e-01,  3.04074585e-01,  1.20192908e-01],\n",
       "       [ 1.35306746e-01,  3.36105466e-01,  2.25834265e-01],\n",
       "       [ 1.92519829e-01,  4.37837571e-01,  4.58173305e-02],\n",
       "       [ 1.82569742e-01,  3.87690991e-01,  2.15116963e-01],\n",
       "       [ 2.63887972e-01,  2.99683064e-01,  8.39635953e-02],\n",
       "       [ 2.15117931e-01,  3.41131359e-01,  1.16827764e-01],\n",
       "       [ 1.81264102e-01,  2.93512046e-01,  1.09771058e-01],\n",
       "       [ 1.91066146e-01,  2.77762681e-01,  5.30687496e-02],\n",
       "       [ 2.86650389e-01,  3.54239225e-01,  1.14541315e-01],\n",
       "       [ 1.61714897e-01,  2.95922309e-01,  1.03866756e-01],\n",
       "       [ 1.25734046e-01,  2.97226340e-01,  3.95509228e-02],\n",
       "       [ 1.10127121e-01,  2.38943517e-01,  9.36857834e-02],\n",
       "       [ 1.61208138e-01,  3.48125428e-01,  1.21038780e-01],\n",
       "       [ 1.94849625e-01,  2.56439447e-01,  4.31199893e-02],\n",
       "       [ 1.40016973e-01,  3.47043365e-01,  1.17007025e-01],\n",
       "       [ 1.75334677e-01,  3.19732487e-01,  9.85330567e-02],\n",
       "       [ 1.60254568e-01,  2.97858298e-01,  1.60336226e-01],\n",
       "       [ 1.69420049e-01,  4.01018679e-01,  2.86151648e-01],\n",
       "       [ 2.46951684e-01,  3.54178548e-01,  1.12050131e-01],\n",
       "       [ 2.57448643e-01,  4.15299684e-01,  1.79639444e-01],\n",
       "       [ 1.50975898e-01,  1.90579385e-01,  3.04320082e-02],\n",
       "       [ 1.08710021e-01,  2.22111017e-01,  2.70756558e-02],\n",
       "       [ 1.34741232e-01,  1.86633885e-01,  2.81870663e-02],\n",
       "       [ 1.03019804e-01,  2.22456485e-01,  2.32863277e-02],\n",
       "       [ 1.26476243e-01,  2.10442692e-01,  3.31229866e-02],\n",
       "       [ 1.44773513e-01,  2.87155241e-01,  1.73652828e-01],\n",
       "       [ 1.88144237e-01,  2.90338784e-01,  9.65989605e-02],\n",
       "       [ 1.41612902e-01,  3.53653520e-01,  1.51288778e-01],\n",
       "       [ 1.46252587e-01,  2.25889742e-01,  9.13625136e-02],\n",
       "       [ 1.16625920e-01,  3.38473707e-01,  1.53547302e-01],\n",
       "       [ 1.33486792e-01,  2.28243500e-01,  9.46810097e-02],\n",
       "       [ 1.61549479e-01,  2.16935396e-01,  9.68508348e-02],\n",
       "       [ 1.01117402e-01,  2.62349486e-01,  7.76783153e-02],\n",
       "       [ 7.83835948e-02,  1.54577106e-01,  2.07440779e-02],\n",
       "       [ 7.00909644e-02,  1.49604082e-01,  2.54576728e-02],\n",
       "       [ 7.62762278e-02,  1.58727050e-01,  2.11593807e-02],\n",
       "       [ 7.33113438e-02,  1.57039493e-01,  2.53495276e-02],\n",
       "       [ 7.78849125e-02,  1.56878084e-01,  2.38701254e-02],\n",
       "       [ 9.06154364e-02,  1.61866665e-01,  2.40794420e-02],\n",
       "       [ 6.89363182e-02,  1.49844378e-01,  2.57098153e-02],\n",
       "       [ 7.33309686e-02,  1.50767535e-01,  2.27398500e-02],\n",
       "       [ 6.73802048e-02,  1.46036088e-01,  2.56351456e-02],\n",
       "       [ 7.25325197e-02,  1.51002079e-01,  1.76673159e-02],\n",
       "       [ 6.86039627e-02,  1.45455301e-01,  2.34332532e-02],\n",
       "       [ 7.00838119e-02,  1.48819864e-01,  2.45727524e-02],\n",
       "       [ 7.18464404e-02,  1.53608263e-01,  2.60835364e-02],\n",
       "       [ 7.26024359e-02,  1.53885722e-01,  2.65159532e-02],\n",
       "       [ 8.02115202e-02,  1.51364356e-01,  1.78476274e-02],\n",
       "       [ 6.83929920e-02,  1.48714602e-01,  2.41636634e-02],\n",
       "       [ 7.39546418e-02,  1.62521452e-01,  1.83772519e-02],\n",
       "       [ 1.31086230e-01,  3.03452671e-01,  1.75378457e-01],\n",
       "       [ 1.64558157e-01,  3.14472139e-01,  1.32378995e-01],\n",
       "       [ 1.50529072e-01,  2.53660500e-01,  9.85449776e-02],\n",
       "       [ 2.27785725e-02,  3.42711108e-03, -2.15042457e-02],\n",
       "       [ 4.91610356e-03, -1.87671883e-03, -1.24894232e-02],\n",
       "       [ 8.23599286e-03, -3.94917559e-04, -1.21757537e-02],\n",
       "       [ 3.14921327e-03, -1.50433881e-03, -1.02506429e-02],\n",
       "       [ 2.04668064e-02,  1.86042413e-02, -8.78100842e-03],\n",
       "       [ 9.71527100e-02,  2.16386408e-01,  2.95793712e-02],\n",
       "       [ 1.02650657e-01,  2.11231232e-01,  1.68778598e-02],\n",
       "       [ 1.01524949e-01,  3.10339540e-01,  9.00533572e-02],\n",
       "       [ 1.09476939e-01,  2.01637059e-01,  2.46623009e-02],\n",
       "       [ 2.18427435e-01,  6.35692775e-01,  3.83097529e-01],\n",
       "       [ 1.42199546e-01,  4.58655030e-01,  1.78844124e-01],\n",
       "       [ 1.90981612e-01,  5.05864859e-01,  2.45121390e-01],\n",
       "       [ 1.85322687e-01,  4.49714929e-01,  1.33043841e-01],\n",
       "       [ 1.79258138e-01,  3.80249292e-01,  2.30045602e-01],\n",
       "       [ 1.67369813e-01,  5.11890352e-01,  1.92237094e-01],\n",
       "       [ 1.68902308e-01,  4.17538911e-01,  9.58068147e-02],\n",
       "       [ 1.94949642e-01,  3.80045235e-01,  9.50157195e-02],\n",
       "       [ 2.09877893e-01,  5.17641068e-01,  2.31230229e-01],\n",
       "       [ 1.73803866e-01,  3.76495928e-01,  2.31148884e-01],\n",
       "       [ 1.65091813e-01,  4.19349343e-01,  2.54473269e-01],\n",
       "       [ 1.61542147e-01,  4.45354849e-01,  1.82218343e-01],\n",
       "       [ 2.17243031e-01,  3.20314944e-01,  4.51980233e-02],\n",
       "       [ 1.65442079e-01,  3.49672526e-01,  2.18516052e-01],\n",
       "       [ 1.71475604e-01,  3.98727864e-01,  1.01859577e-01],\n",
       "       [ 2.16017440e-01,  3.94197971e-01,  1.39640927e-01],\n",
       "       [ 2.40561172e-01,  4.38390046e-01,  2.22715914e-01],\n",
       "       [ 1.46469608e-01,  2.90516287e-01,  1.29679024e-01],\n",
       "       [ 1.52556524e-01,  4.43679780e-01,  2.44754568e-01],\n",
       "       [ 1.65382355e-01,  2.59746492e-01,  4.37953100e-02],\n",
       "       [ 1.71790108e-01,  3.89966935e-01,  1.14099227e-01],\n",
       "       [ 1.34874135e-01,  4.82010514e-01,  3.58829200e-01],\n",
       "       [ 1.31759748e-01,  4.03566092e-01,  1.05024360e-01],\n",
       "       [ 1.38922647e-01,  2.35863298e-01,  6.29606619e-02],\n",
       "       [ 1.81873545e-01,  5.18889546e-01,  2.77803123e-01],\n",
       "       [ 1.64211303e-01,  3.07326853e-01,  3.99589241e-02],\n",
       "       [ 1.72098309e-01,  4.69572097e-01,  2.30513439e-01],\n",
       "       [ 1.76001668e-01,  4.35161382e-01,  1.11777380e-01],\n",
       "       [ 1.86669767e-01,  3.72258872e-01,  1.65669039e-01],\n",
       "       [ 1.36614759e-02,  2.94867679e-02, -8.53292178e-04],\n",
       "       [ 8.56229849e-03,  1.09674828e-03, -1.15195364e-02],\n",
       "       [ 8.34669359e-03,  2.72660749e-03, -1.24960318e-02],\n",
       "       [ 8.83664489e-02,  9.08174738e-02,  7.36849606e-02],\n",
       "       [ 2.14773148e-01,  4.93753999e-01,  1.53576300e-01],\n",
       "       [ 1.95622459e-01,  3.23290527e-01,  4.23144326e-02],\n",
       "       [ 1.89223737e-01,  4.39318836e-01,  1.64214373e-01],\n",
       "       [ 2.33539671e-01,  5.66609919e-01,  3.24814588e-01],\n",
       "       [ 2.47281373e-01,  4.85405684e-01,  4.77769643e-01],\n",
       "       [ 3.17375988e-01,  4.25409555e-01,  1.71723679e-01],\n",
       "       [ 2.73725867e-01,  5.19506037e-01,  1.31491974e-01],\n",
       "       [ 2.03841209e-01,  3.43176872e-01,  1.03860304e-01],\n",
       "       [ 2.53164589e-01,  5.12121618e-01,  1.87486112e-01],\n",
       "       [ 2.25688502e-01,  4.07665521e-01,  1.10647447e-01],\n",
       "       [ 1.97311953e-01,  4.96845752e-01,  1.40431911e-01],\n",
       "       [ 3.19297731e-01,  5.15222013e-01,  2.89034426e-01],\n",
       "       [ 2.10025162e-01,  4.68236923e-01,  2.83902973e-01],\n",
       "       [ 2.46049240e-01,  4.21552747e-01,  1.26279518e-01],\n",
       "       [ 2.60634899e-01,  6.19894326e-01,  1.81662187e-01],\n",
       "       [ 2.77677387e-01,  6.18595898e-01,  2.98038721e-01],\n",
       "       [ 2.30728224e-01,  4.35560733e-01,  1.06751353e-01],\n",
       "       [ 1.44223005e-01,  2.85474420e-01,  3.28929946e-02],\n",
       "       [ 1.77903265e-01,  2.50089794e-01,  1.08313717e-01],\n",
       "       [ 2.81257153e-01,  8.40912223e-01,  5.88334203e-01],\n",
       "       [ 2.90250272e-01,  5.09439051e-01,  2.56855339e-01],\n",
       "       [ 2.58428603e-01,  4.58231688e-01,  1.96045190e-01],\n",
       "       [ 2.30783015e-01,  3.25313717e-01,  9.75799635e-02],\n",
       "       [ 2.24900633e-01,  4.77137625e-01,  1.10748447e-01],\n",
       "       [ 2.81802148e-01,  6.61096394e-01,  4.44295555e-01],\n",
       "       [ 2.90413111e-01,  6.98804200e-01,  4.61789548e-01],\n",
       "       [ 1.95579693e-01,  2.89944977e-01,  3.54165956e-02],\n",
       "       [ 1.33858025e-01,  2.56134361e-01,  1.02682583e-01],\n",
       "       [ 1.72392234e-01,  3.51651490e-01,  9.13858265e-02],\n",
       "       [ 1.82808489e-01,  4.14601535e-01,  1.97655201e-01],\n",
       "       [ 2.24471375e-01,  2.55407661e-01,  1.21823810e-01],\n",
       "       [ 2.93286711e-01,  6.09827101e-01,  2.12481707e-01],\n",
       "       [ 2.75303215e-01,  3.28894556e-01,  1.45430058e-01],\n",
       "       [ 2.14148730e-01,  3.53470534e-01,  4.21757624e-02],\n",
       "       [ 2.15589836e-01,  2.71249890e-01,  3.52073014e-02],\n",
       "       [ 2.11322233e-01,  3.24001044e-01,  1.31384492e-01],\n",
       "       [ 2.67372668e-01,  7.66722739e-01,  8.77039552e-01],\n",
       "       [ 2.65143752e-01,  4.78752375e-01,  4.35730815e-02],\n",
       "       [ 2.72173971e-01,  4.76583749e-01,  2.80723631e-01]], dtype=float32)"
      ]
     },
     "execution_count": 533,
     "metadata": {},
     "output_type": "execute_result"
    }
   ],
   "source": [
    "pickled_model=pickle.load(open('LSTMmodel.pkl','rb'))\n",
    "#Prediction\n",
    "pickled_model.predict(X_test)"
   ]
  },
  {
   "cell_type": "code",
   "execution_count": null,
   "id": "6bb87ebe",
   "metadata": {},
   "outputs": [],
   "source": []
  }
 ],
 "metadata": {
  "kernelspec": {
   "display_name": "Python 3 (ipykernel)",
   "language": "python",
   "name": "python3"
  },
  "language_info": {
   "codemirror_mode": {
    "name": "ipython",
    "version": 3
   },
   "file_extension": ".py",
   "mimetype": "text/x-python",
   "name": "python",
   "nbconvert_exporter": "python",
   "pygments_lexer": "ipython3",
   "version": "3.9.12"
  }
 },
 "nbformat": 4,
 "nbformat_minor": 5
}
